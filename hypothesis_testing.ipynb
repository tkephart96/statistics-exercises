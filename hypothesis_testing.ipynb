{
 "cells": [
  {
   "attachments": {},
   "cell_type": "markdown",
   "metadata": {},
   "source": [
    "# Hypothesis Testing"
   ]
  },
  {
   "attachments": {},
   "cell_type": "markdown",
   "metadata": {},
   "source": [
    "* $H_0$ = `Null` = default, no change\n",
    "* $H_1$ = $H_\\alpha$ = `Alternative`\n",
    "* 1 - $\\alpha$ = `Confidence Interval`, True Pos = 95%, 99% and 99.9%\n",
    "* $\\alpha$ = Significance, `False Pos` rate = P(FP)=P(Type I Error)\n",
    "* 1 - $\\beta$ = `Statistical Power`, True Neg = P(Reject $H_0$ when $H_0$ is false)\n",
    "* $\\beta$ = `False Neg` rate = P(FN)=P(Type II Error)\n",
    "* $p$ = `p-value` = P(saw by chance | $H_0$ is true)"
   ]
  },
  {
   "attachments": {},
   "cell_type": "markdown",
   "metadata": {},
   "source": [
    "#### Examples\n",
    "* $H_0$ : There is no difference in right-handed people and left-handed individual's heights.\n",
    "* $H_\\alpha$ : There is a difference in right-handed people and left-handed individual's heights.\n",
    "\n",
    "* $H_0$ : The amount of sleep a student gets the night before an exam makes no difference on the student's exam score.\n",
    "* $H_\\alpha$ : Less sleep the night before an exam leads to a lower exam score.\n",
    "\n",
    "* $H_0$ : There is no difference in grade for coffee and non-coffee drinkers.\n",
    "* $H_\\alpha$ : Coffee drinkers have higher grades than non-coffee drinkers."
   ]
  },
  {
   "attachments": {},
   "cell_type": "markdown",
   "metadata": {},
   "source": [
    "## Exercises\n",
    "- $H_0$\n",
    "- $H_\\alpha$\n",
    "- 1 - $\\alpha$\n",
    "- 1 - $\\beta$\n",
    "- $\\alpha$\n",
    "- $\\beta$"
   ]
  },
  {
   "attachments": {},
   "cell_type": "markdown",
   "metadata": {},
   "source": [
    "#### Has the network latency gone up since we switched internet service providers?\n",
    "- $H_0$ = Network latency has NOT gone up since we switched ISPs\n",
    "- $H_\\alpha$ = Network latency HAS gone up since we switched ISPs\n",
    "- 1 - $\\alpha$ = Latency roughly same from old latency (lot of overlap)\n",
    "- 1 - $\\beta$ = Latency definitely higher than old latency (very little overlap)\n",
    "- $\\alpha$ = Latency roughly same as old but someone complains\n",
    "- $\\beta$ = Latency definitely more than old but no complaints"
   ]
  },
  {
   "attachments": {},
   "cell_type": "markdown",
   "metadata": {},
   "source": [
    "#### Is the website redesign any good?\n",
    "- $H_0$ = Website redesign made no change\n",
    "- $H_\\alpha$ = Website redesign was better\n",
    "- 1 - $\\alpha$ = Website visits the same\n",
    "- 1 - $\\beta$ = Website visits increased\n",
    "- $\\alpha$ = Website visits the same but def looks better\n",
    "- $\\beta$ = Website visits increased "
   ]
  },
  {
   "attachments": {},
   "cell_type": "markdown",
   "metadata": {},
   "source": [
    "#### Is our television ad driving more sales?\n",
    "- $H_0$ = \n",
    "- $H_\\alpha$ = \n",
    "- 1 - $\\alpha$ = \n",
    "- 1 - $\\beta$ = \n",
    "- $\\alpha$ = \n",
    "- $\\beta$ = "
   ]
  },
  {
   "cell_type": "markdown",
   "metadata": {},
   "source": []
  }
 ],
 "metadata": {
  "kernelspec": {
   "display_name": "base",
   "language": "python",
   "name": "python3"
  },
  "language_info": {
   "codemirror_mode": {
    "name": "ipython",
    "version": 3
   },
   "file_extension": ".py",
   "mimetype": "text/x-python",
   "name": "python",
   "nbconvert_exporter": "python",
   "pygments_lexer": "ipython3",
   "version": "3.9.13"
  },
  "orig_nbformat": 4
 },
 "nbformat": 4,
 "nbformat_minor": 2
}
