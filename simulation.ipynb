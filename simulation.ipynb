{
 "cells": [
  {
   "cell_type": "markdown",
   "metadata": {},
   "source": [
    "# Simulation"
   ]
  },
  {
   "cell_type": "code",
   "execution_count": 19,
   "metadata": {},
   "outputs": [
    {
     "data": {
      "text/plain": [
       "Generator(PCG64) at 0x12629A4A0"
      ]
     },
     "execution_count": 19,
     "metadata": {},
     "output_type": "execute_result"
    }
   ],
   "source": [
    "import numpy as np\n",
    "import pandas as pd\n",
    "\n",
    "rng = np.random.default_rng(42)\n",
    "rng"
   ]
  },
  {
   "cell_type": "markdown",
   "metadata": {},
   "source": [
    "### How likely is it that you roll doubles when rolling two dice?\n"
   ]
  },
  {
   "cell_type": "code",
   "execution_count": 20,
   "metadata": {},
   "outputs": [
    {
     "data": {
      "text/plain": [
       "array([[1, 5],\n",
       "       [4, 3],\n",
       "       [3, 6],\n",
       "       ...,\n",
       "       [6, 4],\n",
       "       [3, 1],\n",
       "       [6, 6]])"
      ]
     },
     "execution_count": 20,
     "metadata": {},
     "output_type": "execute_result"
    }
   ],
   "source": [
    "n_sim = 10**5\n",
    "n_dice = 2\n",
    "rolls = rng.choice([1,2,3,4,5,6], n_sim * n_dice).reshape(n_sim,n_dice)\n",
    "rolls"
   ]
  },
  {
   "cell_type": "code",
   "execution_count": 21,
   "metadata": {},
   "outputs": [
    {
     "data": {
      "text/plain": [
       "0.16704"
      ]
     },
     "execution_count": 21,
     "metadata": {},
     "output_type": "execute_result"
    }
   ],
   "source": [
    "pd.DataFrame(rolls).apply(lambda row: row[0] == row[1], axis=1).mean()"
   ]
  },
  {
   "cell_type": "markdown",
   "metadata": {},
   "source": [
    "### If you flip 8 coins, what is the probability of getting exactly 3 heads? What is the probability of getting more than 3 heads?\n"
   ]
  },
  {
   "cell_type": "code",
   "execution_count": 22,
   "metadata": {},
   "outputs": [
    {
     "data": {
      "text/plain": [
       "array([1, 3, 4, ..., 4, 2, 4])"
      ]
     },
     "execution_count": 22,
     "metadata": {},
     "output_type": "execute_result"
    }
   ],
   "source": [
    "n_coins = 8\n",
    "flips = rng.choice(['heads','tails'], n_sim * n_coins).reshape(n_sim,n_coins)\n",
    "\n",
    "flip_count = (flips=='heads').sum(axis=1)\n",
    "flip_count"
   ]
  },
  {
   "cell_type": "code",
   "execution_count": 23,
   "metadata": {},
   "outputs": [
    {
     "data": {
      "text/plain": [
       "0.21906"
      ]
     },
     "execution_count": 23,
     "metadata": {},
     "output_type": "execute_result"
    }
   ],
   "source": [
    "(flip_count == 3).mean()"
   ]
  },
  {
   "cell_type": "code",
   "execution_count": 24,
   "metadata": {},
   "outputs": [
    {
     "data": {
      "text/plain": [
       "0.63767"
      ]
     },
     "execution_count": 24,
     "metadata": {},
     "output_type": "execute_result"
    }
   ],
   "source": [
    "(flip_count > 3).mean()"
   ]
  },
  {
   "cell_type": "markdown",
   "metadata": {},
   "source": [
    "### There are approximately 3 web development cohorts for every 1 data science cohort at Codeup. Assuming that Codeup randomly selects an alumni to put on a billboard, what are the odds that the two billboards I drive past both have data science students on them?\n"
   ]
  },
  {
   "cell_type": "code",
   "execution_count": 25,
   "metadata": {},
   "outputs": [
    {
     "data": {
      "text/plain": [
       "array([['wd', 'wd'],\n",
       "       ['ds', 'wd'],\n",
       "       ['ds', 'wd'],\n",
       "       ...,\n",
       "       ['wd', 'wd'],\n",
       "       ['wd', 'wd'],\n",
       "       ['wd', 'wd']], dtype='<U2')"
      ]
     },
     "execution_count": 25,
     "metadata": {},
     "output_type": "execute_result"
    }
   ],
   "source": [
    "n_bb = 2\n",
    "db = rng.choice(['wd','ds'], n_sim * n_bb, p=[0.75,0.25]).reshape(n_sim,n_bb)\n",
    "db"
   ]
  },
  {
   "cell_type": "code",
   "execution_count": 26,
   "metadata": {},
   "outputs": [
    {
     "data": {
      "text/plain": [
       "0.06349"
      ]
     },
     "execution_count": 26,
     "metadata": {},
     "output_type": "execute_result"
    }
   ],
   "source": [
    "((db=='ds').sum(axis=1)==2).mean()"
   ]
  },
  {
   "cell_type": "markdown",
   "metadata": {},
   "source": [
    "### Codeup students buy, on average, 3 poptart packages with a standard deviation of 1.5 a day from the snack vending machine. If on monday the machine is restocked with 17 poptart packages, how likely is it that I will be able to buy some poptarts on Friday afternoon? (Remember, if you have mean and standard deviation, use the `np.random.normal`) You'll need to make a judgement call on how to handle some of your values\n"
   ]
  },
  {
   "cell_type": "code",
   "execution_count": 27,
   "metadata": {},
   "outputs": [
    {
     "data": {
      "text/plain": [
       "array([[2., 3., 7., 4., 4.],\n",
       "       [4., 4., 4., 1., 4.],\n",
       "       [3., 3., 2., 2., 5.],\n",
       "       ...,\n",
       "       [3., 6., 1., 5., 3.],\n",
       "       [1., 2., 4., 1., 0.],\n",
       "       [5., 5., 5., 4., 4.]])"
      ]
     },
     "execution_count": 27,
     "metadata": {},
     "output_type": "execute_result"
    }
   ],
   "source": [
    "mu, sigma = 3, 1.5\n",
    "pop = rng.normal(3, 1.5, size=(10**5,5)).round(0)\n",
    "pop"
   ]
  },
  {
   "cell_type": "code",
   "execution_count": 28,
   "metadata": {},
   "outputs": [
    {
     "data": {
      "text/plain": [
       "0.66869"
      ]
     },
     "execution_count": 28,
     "metadata": {},
     "output_type": "execute_result"
    }
   ],
   "source": [
    "(pop.sum(axis=1)<17).mean()"
   ]
  },
  {
   "cell_type": "markdown",
   "metadata": {},
   "source": [
    "### Compare Heights\n",
    "- Men have an average height of 178 cm and standard deviation of 8cm.\n",
    "- Women have a mean of 170, sd = 6cm.\n",
    "- Since you have means and standard deviations, you can use `np.random.normal` to generate observations.\n",
    "- If a man and woman are chosen at random, what is the likelihood the woman is taller than the man?\n"
   ]
  },
  {
   "cell_type": "code",
   "execution_count": 29,
   "metadata": {},
   "outputs": [],
   "source": [
    "m_mu, m_sigma = 178, 8\n",
    "w_mu, w_sigma = 170, 6\n",
    "mh = rng.normal(m_mu,m_sigma,10**5)\n",
    "wh = rng.normal(w_mu,w_sigma,10**5)"
   ]
  },
  {
   "cell_type": "code",
   "execution_count": 30,
   "metadata": {},
   "outputs": [
    {
     "data": {
      "text/plain": [
       "0.21054"
      ]
     },
     "execution_count": 30,
     "metadata": {},
     "output_type": "execute_result"
    }
   ],
   "source": [
    "height = pd.DataFrame([mh,wh]).T\n",
    "height = height.rename(columns={0:'men',1:'women'})\n",
    "(height.men<height.women).mean()"
   ]
  },
  {
   "cell_type": "markdown",
   "metadata": {},
   "source": [
    "### When installing anaconda on a student's computer, there's a 1 in 250 chance that the download is corrupted and the installation fails. What are the odds that after having 50 students download anaconda, no one has an installation issue? 100 students?\n",
    "\n",
    "What is the probability that we observe an installation issue within the first 150 students that download anaconda?\n",
    "\n",
    "How likely is it that 450 students all download anaconda without an issue?\n"
   ]
  },
  {
   "cell_type": "code",
   "execution_count": 31,
   "metadata": {},
   "outputs": [
    {
     "data": {
      "text/plain": [
       "0.81777"
      ]
     },
     "execution_count": 31,
     "metadata": {},
     "output_type": "execute_result"
    }
   ],
   "source": [
    "stu = 50\n",
    "ana = rng.choice(['good','issue'],n_sim * stu, p=[0.996,0.004]).reshape(n_sim,stu)\n",
    "((ana=='good').sum(axis=1)==stu).mean()"
   ]
  },
  {
   "cell_type": "code",
   "execution_count": 32,
   "metadata": {},
   "outputs": [
    {
     "data": {
      "text/plain": [
       "0.32961"
      ]
     },
     "execution_count": 32,
     "metadata": {},
     "output_type": "execute_result"
    }
   ],
   "source": [
    "stu = 100\n",
    "ana = rng.choice(['good','issue'],n_sim * stu, p=[0.996,0.004]).reshape(n_sim,stu)\n",
    "((ana=='good').sum(axis=1)<stu).mean()"
   ]
  },
  {
   "cell_type": "code",
   "execution_count": 33,
   "metadata": {},
   "outputs": [
    {
     "data": {
      "text/plain": [
       "0.45163"
      ]
     },
     "execution_count": 33,
     "metadata": {},
     "output_type": "execute_result"
    }
   ],
   "source": [
    "stu = 150\n",
    "ana = rng.choice(['good','issue'],n_sim * stu, p=[0.996,0.004]).reshape(n_sim,stu)\n",
    "((ana=='good').sum(axis=1)<stu).mean()"
   ]
  },
  {
   "cell_type": "code",
   "execution_count": 34,
   "metadata": {},
   "outputs": [
    {
     "data": {
      "text/plain": [
       "0.16366"
      ]
     },
     "execution_count": 34,
     "metadata": {},
     "output_type": "execute_result"
    }
   ],
   "source": [
    "stu = 450\n",
    "ana = rng.choice(['good','issue'],n_sim * stu, p=[0.996,0.004]).reshape(n_sim,stu)\n",
    "((ana=='good').sum(axis=1)==stu).mean()"
   ]
  },
  {
   "cell_type": "markdown",
   "metadata": {},
   "source": [
    "### There's a 70% chance on any given day that there will be at least one food truck at Travis Park. However, you haven't seen a food truck there in 3 days. How unlikely is this?\n",
    "\n",
    "How likely is it that a food truck will show up sometime this week?\n"
   ]
  },
  {
   "cell_type": "code",
   "execution_count": 35,
   "metadata": {},
   "outputs": [
    {
     "data": {
      "text/plain": [
       "0.02624"
      ]
     },
     "execution_count": 35,
     "metadata": {},
     "output_type": "execute_result"
    }
   ],
   "source": [
    "days = 3\n",
    "food = rng.choice([0,1],n_sim*days,p=[0.3,0.7]).reshape(n_sim,days)\n",
    "(food.sum(axis=1)==0).mean()"
   ]
  },
  {
   "cell_type": "code",
   "execution_count": 36,
   "metadata": {},
   "outputs": [
    {
     "data": {
      "text/plain": [
       "0.99976"
      ]
     },
     "execution_count": 36,
     "metadata": {},
     "output_type": "execute_result"
    }
   ],
   "source": [
    "days = 7\n",
    "food = rng.choice([0,1],n_sim*days,p=[0.3,0.7]).reshape(n_sim,days)\n",
    "((food.sum(axis=1)>=1)).mean()"
   ]
  },
  {
   "cell_type": "markdown",
   "metadata": {},
   "source": [
    "### If 23 people are in the same room, what are the odds that two of them share a birthday? What if it's 20 people? 40?"
   ]
  },
  {
   "cell_type": "code",
   "execution_count": 37,
   "metadata": {},
   "outputs": [
    {
     "data": {
      "text/plain": [
       "array([[321, 219, 244, ...,  48, 279, 341],\n",
       "       [ 28, 106, 315, ..., 207, 217, 142],\n",
       "       [  4,  15,  88, ..., 229, 208,  52],\n",
       "       ...,\n",
       "       [103, 259, 348, ..., 305, 118,   9],\n",
       "       [227, 358,  45, ...,  35, 223, 308],\n",
       "       [211, 216, 114, ..., 350, 163, 316]])"
      ]
     },
     "execution_count": 37,
     "metadata": {},
     "output_type": "execute_result"
    }
   ],
   "source": [
    "bdays = range(0,365)\n",
    "stud = 23\n",
    "bday = rng.choice(bdays, size=(n_sim,stud))\n",
    "bday"
   ]
  },
  {
   "cell_type": "code",
   "execution_count": 38,
   "metadata": {},
   "outputs": [
    {
     "data": {
      "text/html": [
       "<div>\n",
       "<style scoped>\n",
       "    .dataframe tbody tr th:only-of-type {\n",
       "        vertical-align: middle;\n",
       "    }\n",
       "\n",
       "    .dataframe tbody tr th {\n",
       "        vertical-align: top;\n",
       "    }\n",
       "\n",
       "    .dataframe thead th {\n",
       "        text-align: right;\n",
       "    }\n",
       "</style>\n",
       "<table border=\"1\" class=\"dataframe\">\n",
       "  <thead>\n",
       "    <tr style=\"text-align: right;\">\n",
       "      <th></th>\n",
       "      <th>0</th>\n",
       "      <th>1</th>\n",
       "      <th>2</th>\n",
       "      <th>3</th>\n",
       "      <th>4</th>\n",
       "      <th>5</th>\n",
       "      <th>6</th>\n",
       "      <th>7</th>\n",
       "      <th>8</th>\n",
       "      <th>9</th>\n",
       "      <th>...</th>\n",
       "      <th>13</th>\n",
       "      <th>14</th>\n",
       "      <th>15</th>\n",
       "      <th>16</th>\n",
       "      <th>17</th>\n",
       "      <th>18</th>\n",
       "      <th>19</th>\n",
       "      <th>20</th>\n",
       "      <th>21</th>\n",
       "      <th>22</th>\n",
       "    </tr>\n",
       "  </thead>\n",
       "  <tbody>\n",
       "    <tr>\n",
       "      <th>0</th>\n",
       "      <td>321</td>\n",
       "      <td>219</td>\n",
       "      <td>244</td>\n",
       "      <td>87</td>\n",
       "      <td>261</td>\n",
       "      <td>32</td>\n",
       "      <td>295</td>\n",
       "      <td>313</td>\n",
       "      <td>355</td>\n",
       "      <td>123</td>\n",
       "      <td>...</td>\n",
       "      <td>1</td>\n",
       "      <td>44</td>\n",
       "      <td>97</td>\n",
       "      <td>279</td>\n",
       "      <td>147</td>\n",
       "      <td>356</td>\n",
       "      <td>345</td>\n",
       "      <td>48</td>\n",
       "      <td>279</td>\n",
       "      <td>341</td>\n",
       "    </tr>\n",
       "    <tr>\n",
       "      <th>1</th>\n",
       "      <td>28</td>\n",
       "      <td>106</td>\n",
       "      <td>315</td>\n",
       "      <td>35</td>\n",
       "      <td>70</td>\n",
       "      <td>314</td>\n",
       "      <td>67</td>\n",
       "      <td>156</td>\n",
       "      <td>330</td>\n",
       "      <td>327</td>\n",
       "      <td>...</td>\n",
       "      <td>0</td>\n",
       "      <td>327</td>\n",
       "      <td>229</td>\n",
       "      <td>101</td>\n",
       "      <td>229</td>\n",
       "      <td>142</td>\n",
       "      <td>321</td>\n",
       "      <td>207</td>\n",
       "      <td>217</td>\n",
       "      <td>142</td>\n",
       "    </tr>\n",
       "    <tr>\n",
       "      <th>2</th>\n",
       "      <td>4</td>\n",
       "      <td>15</td>\n",
       "      <td>88</td>\n",
       "      <td>90</td>\n",
       "      <td>307</td>\n",
       "      <td>342</td>\n",
       "      <td>110</td>\n",
       "      <td>180</td>\n",
       "      <td>108</td>\n",
       "      <td>89</td>\n",
       "      <td>...</td>\n",
       "      <td>348</td>\n",
       "      <td>216</td>\n",
       "      <td>246</td>\n",
       "      <td>253</td>\n",
       "      <td>139</td>\n",
       "      <td>337</td>\n",
       "      <td>356</td>\n",
       "      <td>229</td>\n",
       "      <td>208</td>\n",
       "      <td>52</td>\n",
       "    </tr>\n",
       "    <tr>\n",
       "      <th>3</th>\n",
       "      <td>359</td>\n",
       "      <td>162</td>\n",
       "      <td>333</td>\n",
       "      <td>91</td>\n",
       "      <td>173</td>\n",
       "      <td>22</td>\n",
       "      <td>85</td>\n",
       "      <td>209</td>\n",
       "      <td>159</td>\n",
       "      <td>160</td>\n",
       "      <td>...</td>\n",
       "      <td>361</td>\n",
       "      <td>235</td>\n",
       "      <td>55</td>\n",
       "      <td>320</td>\n",
       "      <td>197</td>\n",
       "      <td>346</td>\n",
       "      <td>76</td>\n",
       "      <td>99</td>\n",
       "      <td>121</td>\n",
       "      <td>204</td>\n",
       "    </tr>\n",
       "    <tr>\n",
       "      <th>4</th>\n",
       "      <td>325</td>\n",
       "      <td>208</td>\n",
       "      <td>109</td>\n",
       "      <td>347</td>\n",
       "      <td>25</td>\n",
       "      <td>180</td>\n",
       "      <td>269</td>\n",
       "      <td>123</td>\n",
       "      <td>357</td>\n",
       "      <td>288</td>\n",
       "      <td>...</td>\n",
       "      <td>350</td>\n",
       "      <td>251</td>\n",
       "      <td>155</td>\n",
       "      <td>24</td>\n",
       "      <td>71</td>\n",
       "      <td>167</td>\n",
       "      <td>111</td>\n",
       "      <td>140</td>\n",
       "      <td>75</td>\n",
       "      <td>181</td>\n",
       "    </tr>\n",
       "    <tr>\n",
       "      <th>...</th>\n",
       "      <td>...</td>\n",
       "      <td>...</td>\n",
       "      <td>...</td>\n",
       "      <td>...</td>\n",
       "      <td>...</td>\n",
       "      <td>...</td>\n",
       "      <td>...</td>\n",
       "      <td>...</td>\n",
       "      <td>...</td>\n",
       "      <td>...</td>\n",
       "      <td>...</td>\n",
       "      <td>...</td>\n",
       "      <td>...</td>\n",
       "      <td>...</td>\n",
       "      <td>...</td>\n",
       "      <td>...</td>\n",
       "      <td>...</td>\n",
       "      <td>...</td>\n",
       "      <td>...</td>\n",
       "      <td>...</td>\n",
       "      <td>...</td>\n",
       "    </tr>\n",
       "    <tr>\n",
       "      <th>99995</th>\n",
       "      <td>160</td>\n",
       "      <td>193</td>\n",
       "      <td>50</td>\n",
       "      <td>322</td>\n",
       "      <td>169</td>\n",
       "      <td>154</td>\n",
       "      <td>203</td>\n",
       "      <td>333</td>\n",
       "      <td>236</td>\n",
       "      <td>106</td>\n",
       "      <td>...</td>\n",
       "      <td>86</td>\n",
       "      <td>138</td>\n",
       "      <td>134</td>\n",
       "      <td>48</td>\n",
       "      <td>198</td>\n",
       "      <td>116</td>\n",
       "      <td>340</td>\n",
       "      <td>14</td>\n",
       "      <td>218</td>\n",
       "      <td>206</td>\n",
       "    </tr>\n",
       "    <tr>\n",
       "      <th>99996</th>\n",
       "      <td>314</td>\n",
       "      <td>75</td>\n",
       "      <td>363</td>\n",
       "      <td>7</td>\n",
       "      <td>326</td>\n",
       "      <td>38</td>\n",
       "      <td>33</td>\n",
       "      <td>279</td>\n",
       "      <td>340</td>\n",
       "      <td>246</td>\n",
       "      <td>...</td>\n",
       "      <td>306</td>\n",
       "      <td>314</td>\n",
       "      <td>122</td>\n",
       "      <td>140</td>\n",
       "      <td>346</td>\n",
       "      <td>338</td>\n",
       "      <td>239</td>\n",
       "      <td>44</td>\n",
       "      <td>332</td>\n",
       "      <td>252</td>\n",
       "    </tr>\n",
       "    <tr>\n",
       "      <th>99997</th>\n",
       "      <td>103</td>\n",
       "      <td>259</td>\n",
       "      <td>348</td>\n",
       "      <td>275</td>\n",
       "      <td>32</td>\n",
       "      <td>100</td>\n",
       "      <td>129</td>\n",
       "      <td>86</td>\n",
       "      <td>100</td>\n",
       "      <td>146</td>\n",
       "      <td>...</td>\n",
       "      <td>250</td>\n",
       "      <td>58</td>\n",
       "      <td>336</td>\n",
       "      <td>247</td>\n",
       "      <td>339</td>\n",
       "      <td>171</td>\n",
       "      <td>75</td>\n",
       "      <td>305</td>\n",
       "      <td>118</td>\n",
       "      <td>9</td>\n",
       "    </tr>\n",
       "    <tr>\n",
       "      <th>99998</th>\n",
       "      <td>227</td>\n",
       "      <td>358</td>\n",
       "      <td>45</td>\n",
       "      <td>268</td>\n",
       "      <td>84</td>\n",
       "      <td>36</td>\n",
       "      <td>311</td>\n",
       "      <td>120</td>\n",
       "      <td>256</td>\n",
       "      <td>132</td>\n",
       "      <td>...</td>\n",
       "      <td>199</td>\n",
       "      <td>201</td>\n",
       "      <td>157</td>\n",
       "      <td>360</td>\n",
       "      <td>255</td>\n",
       "      <td>54</td>\n",
       "      <td>97</td>\n",
       "      <td>35</td>\n",
       "      <td>223</td>\n",
       "      <td>308</td>\n",
       "    </tr>\n",
       "    <tr>\n",
       "      <th>99999</th>\n",
       "      <td>211</td>\n",
       "      <td>216</td>\n",
       "      <td>114</td>\n",
       "      <td>107</td>\n",
       "      <td>186</td>\n",
       "      <td>189</td>\n",
       "      <td>210</td>\n",
       "      <td>153</td>\n",
       "      <td>239</td>\n",
       "      <td>358</td>\n",
       "      <td>...</td>\n",
       "      <td>247</td>\n",
       "      <td>22</td>\n",
       "      <td>265</td>\n",
       "      <td>218</td>\n",
       "      <td>147</td>\n",
       "      <td>116</td>\n",
       "      <td>269</td>\n",
       "      <td>350</td>\n",
       "      <td>163</td>\n",
       "      <td>316</td>\n",
       "    </tr>\n",
       "  </tbody>\n",
       "</table>\n",
       "<p>100000 rows × 23 columns</p>\n",
       "</div>"
      ],
      "text/plain": [
       "        0    1    2    3    4    5    6    7    8    9   ...   13   14   15  \\\n",
       "0      321  219  244   87  261   32  295  313  355  123  ...    1   44   97   \n",
       "1       28  106  315   35   70  314   67  156  330  327  ...    0  327  229   \n",
       "2        4   15   88   90  307  342  110  180  108   89  ...  348  216  246   \n",
       "3      359  162  333   91  173   22   85  209  159  160  ...  361  235   55   \n",
       "4      325  208  109  347   25  180  269  123  357  288  ...  350  251  155   \n",
       "...    ...  ...  ...  ...  ...  ...  ...  ...  ...  ...  ...  ...  ...  ...   \n",
       "99995  160  193   50  322  169  154  203  333  236  106  ...   86  138  134   \n",
       "99996  314   75  363    7  326   38   33  279  340  246  ...  306  314  122   \n",
       "99997  103  259  348  275   32  100  129   86  100  146  ...  250   58  336   \n",
       "99998  227  358   45  268   84   36  311  120  256  132  ...  199  201  157   \n",
       "99999  211  216  114  107  186  189  210  153  239  358  ...  247   22  265   \n",
       "\n",
       "        16   17   18   19   20   21   22  \n",
       "0      279  147  356  345   48  279  341  \n",
       "1      101  229  142  321  207  217  142  \n",
       "2      253  139  337  356  229  208   52  \n",
       "3      320  197  346   76   99  121  204  \n",
       "4       24   71  167  111  140   75  181  \n",
       "...    ...  ...  ...  ...  ...  ...  ...  \n",
       "99995   48  198  116  340   14  218  206  \n",
       "99996  140  346  338  239   44  332  252  \n",
       "99997  247  339  171   75  305  118    9  \n",
       "99998  360  255   54   97   35  223  308  \n",
       "99999  218  147  116  269  350  163  316  \n",
       "\n",
       "[100000 rows x 23 columns]"
      ]
     },
     "execution_count": 38,
     "metadata": {},
     "output_type": "execute_result"
    }
   ],
   "source": [
    "bday=pd.DataFrame(bday)\n",
    "bday"
   ]
  },
  {
   "cell_type": "code",
   "execution_count": 39,
   "metadata": {},
   "outputs": [
    {
     "data": {
      "text/plain": [
       "0.50898"
      ]
     },
     "execution_count": 39,
     "metadata": {},
     "output_type": "execute_result"
    }
   ],
   "source": [
    "(bday.nunique(axis=1)<stud).mean()"
   ]
  },
  {
   "cell_type": "code",
   "execution_count": 40,
   "metadata": {},
   "outputs": [
    {
     "data": {
      "text/plain": [
       "0.41195"
      ]
     },
     "execution_count": 40,
     "metadata": {},
     "output_type": "execute_result"
    }
   ],
   "source": [
    "stud = 20\n",
    "bday = pd.DataFrame(rng.choice(bdays, size=(n_sim,stud)))\n",
    "(bday.nunique(axis=1)<stud).mean()"
   ]
  },
  {
   "cell_type": "code",
   "execution_count": 41,
   "metadata": {},
   "outputs": [
    {
     "data": {
      "text/plain": [
       "0.89145"
      ]
     },
     "execution_count": 41,
     "metadata": {},
     "output_type": "execute_result"
    }
   ],
   "source": [
    "stud = 40\n",
    "bday = pd.DataFrame(rng.choice(bdays, size=(n_sim,stud)))\n",
    "(bday.nunique(axis=1)<stud).mean()"
   ]
  },
  {
   "cell_type": "code",
   "execution_count": null,
   "metadata": {},
   "outputs": [],
   "source": []
  }
 ],
 "metadata": {
  "kernelspec": {
   "display_name": "Python 3 (ipykernel)",
   "language": "python",
   "name": "python3"
  },
  "language_info": {
   "codemirror_mode": {
    "name": "ipython",
    "version": 3
   },
   "file_extension": ".py",
   "mimetype": "text/x-python",
   "name": "python",
   "nbconvert_exporter": "python",
   "pygments_lexer": "ipython3",
   "version": "3.9.13"
  }
 },
 "nbformat": 4,
 "nbformat_minor": 2
}
